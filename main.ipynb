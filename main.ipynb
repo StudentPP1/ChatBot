{
 "cells": [
  {
   "cell_type": "code",
   "execution_count": 1,
   "metadata": {},
   "outputs": [],
   "source": [
    "import keras\n",
    "from keras.utils import to_categorical\n",
    "from nltk.tokenize import word_tokenize\n",
    "from sklearn.preprocessing import LabelEncoder\n",
    "from keras.preprocessing.sequence import pad_sequences\n",
    "from keras import Sequential\n",
    "from keras.layers import Dense, Flatten, Embedding\n",
    "import numpy as np\n",
    "import re\n",
    "from bpe import BPE"
   ]
  },
  {
   "cell_type": "code",
   "execution_count": 2,
   "metadata": {},
   "outputs": [],
   "source": [
    "# Hyperparameters\n",
    "vocab_size = 2000\n",
    "max_length = 20"
   ]
  },
  {
   "cell_type": "code",
   "execution_count": 3,
   "metadata": {},
   "outputs": [],
   "source": [
    "# text cleaning and fit bpe tokenizer\n",
    "bpe = BPE(vocab_size)\n",
    "\n",
    "def tokenize(text):\n",
    "    clean_text = re.sub(\"r[^A-z0-9?!.', ]\", '', str(text))\n",
    "    return ' '.join(word_tokenize(clean_text))\n",
    "\n",
    "\n",
    "x = []\n",
    "y = []\n",
    "\n",
    "with open(\"dialogs.txt\", 'r') as file:\n",
    "    for line in file.readlines():\n",
    "        question, answer = line.replace(\"\\n\", '').split('\\t')\n",
    "        x.append(tokenize(question))\n",
    "        y.append(answer)\n",
    "\n",
    "\n",
    "bpe.fit(x)\n",
    "\n",
    "x = [bpe.decode(i) for i in x]\n",
    "x = pad_sequences(x, maxlen=max_length)"
   ]
  },
  {
   "cell_type": "code",
   "execution_count": 4,
   "metadata": {},
   "outputs": [],
   "source": [
    "# Save the tokenizer as a file\n",
    "bpe.save()\n",
    "\n",
    "# Load the tokenizer from a file\n",
    "bpe.load()"
   ]
  },
  {
   "cell_type": "code",
   "execution_count": 5,
   "metadata": {},
   "outputs": [],
   "source": [
    "label_encoder = LabelEncoder()\n",
    "y = label_encoder.fit_transform(y)\n",
    "output_size = len(label_encoder.classes_)\n",
    "y = to_categorical(y)"
   ]
  },
  {
   "cell_type": "code",
   "execution_count": 6,
   "metadata": {},
   "outputs": [],
   "source": [
    "test_x, test_y = x[:100], y[:100]"
   ]
  },
  {
   "cell_type": "code",
   "execution_count": 7,
   "metadata": {},
   "outputs": [
    {
     "name": "stdout",
     "output_type": "stream",
     "text": [
      "Model: \"sequential\"\n",
      "_________________________________________________________________\n",
      " Layer (type)                Output Shape              Param #   \n",
      "=================================================================\n",
      " embedding (Embedding)       (None, 20, 32)            64000     \n",
      "                                                                 \n",
      " flatten (Flatten)           (None, 640)               0         \n",
      "                                                                 \n",
      " dense (Dense)               (None, 64)                41024     \n",
      "                                                                 \n",
      " dense_1 (Dense)             (None, 32)                2080      \n",
      "                                                                 \n",
      " dense_2 (Dense)             (None, 16)                528       \n",
      "                                                                 \n",
      " dense_3 (Dense)             (None, 3608)              61336     \n",
      "                                                                 \n",
      "=================================================================\n",
      "Total params: 168968 (660.03 KB)\n",
      "Trainable params: 168968 (660.03 KB)\n",
      "Non-trainable params: 0 (0.00 Byte)\n",
      "_________________________________________________________________\n"
     ]
    }
   ],
   "source": [
    "# Model\n",
    "model = Sequential([\n",
    "    Embedding(input_dim=vocab_size, output_dim=32, input_length=max_length),\n",
    "    Flatten(),\n",
    "    Dense(units=64, activation='relu'),\n",
    "    Dense(units=32, activation='relu'),\n",
    "    Dense(units=16, activation='relu'),\n",
    "    Dense(units=output_size, activation='softmax')\n",
    "])\n",
    "\n",
    "model.compile(optimizer=\"adam\", loss=\"categorical_crossentropy\", metrics=[\"accuracy\"])\n",
    "model.summary() "
   ]
  },
  {
   "cell_type": "code",
   "execution_count": 8,
   "metadata": {},
   "outputs": [
    {
     "name": "stdout",
     "output_type": "stream",
     "text": [
      "Epoch 1/50\n",
      "120/120 [==============================] - 1s 3ms/step - loss: 8.2098 - accuracy: 0.0026\n",
      "Epoch 2/50\n",
      "120/120 [==============================] - 0s 3ms/step - loss: 8.1921 - accuracy: 0.0052\n",
      "Epoch 3/50\n",
      "120/120 [==============================] - 0s 3ms/step - loss: 8.1896 - accuracy: 0.0047\n",
      "Epoch 4/50\n",
      "120/120 [==============================] - 0s 2ms/step - loss: 8.0789 - accuracy: 0.0060\n",
      "Epoch 5/50\n",
      "120/120 [==============================] - 0s 3ms/step - loss: 7.5165 - accuracy: 0.0058\n",
      "Epoch 6/50\n",
      "120/120 [==============================] - 0s 3ms/step - loss: 6.9175 - accuracy: 0.0076\n",
      "Epoch 7/50\n",
      "120/120 [==============================] - 0s 2ms/step - loss: 6.3319 - accuracy: 0.0136\n",
      "Epoch 8/50\n",
      "120/120 [==============================] - 0s 3ms/step - loss: 5.7210 - accuracy: 0.0227\n",
      "Epoch 9/50\n",
      "120/120 [==============================] - 0s 2ms/step - loss: 5.0635 - accuracy: 0.0442\n",
      "Epoch 10/50\n",
      "120/120 [==============================] - 0s 2ms/step - loss: 4.3962 - accuracy: 0.0816\n",
      "Epoch 11/50\n",
      "120/120 [==============================] - 0s 2ms/step - loss: 3.7717 - accuracy: 0.1420\n",
      "Epoch 12/50\n",
      "120/120 [==============================] - 0s 2ms/step - loss: 3.1964 - accuracy: 0.2105\n",
      "Epoch 13/50\n",
      "120/120 [==============================] - 0s 2ms/step - loss: 2.7246 - accuracy: 0.2905\n",
      "Epoch 14/50\n",
      "120/120 [==============================] - 0s 2ms/step - loss: 2.3233 - accuracy: 0.3773\n",
      "Epoch 15/50\n",
      "120/120 [==============================] - 0s 2ms/step - loss: 1.9812 - accuracy: 0.4531\n",
      "Epoch 16/50\n",
      "120/120 [==============================] - 0s 2ms/step - loss: 1.7075 - accuracy: 0.5302\n",
      "Epoch 17/50\n",
      "120/120 [==============================] - 0s 2ms/step - loss: 1.5069 - accuracy: 0.5890\n",
      "Epoch 18/50\n",
      "120/120 [==============================] - 0s 2ms/step - loss: 1.3091 - accuracy: 0.6473\n",
      "Epoch 19/50\n",
      "120/120 [==============================] - 0s 2ms/step - loss: 1.1301 - accuracy: 0.6905\n",
      "Epoch 20/50\n",
      "120/120 [==============================] - 0s 2ms/step - loss: 0.9893 - accuracy: 0.7425\n",
      "Epoch 21/50\n",
      "120/120 [==============================] - 0s 2ms/step - loss: 0.8804 - accuracy: 0.7702\n",
      "Epoch 22/50\n",
      "120/120 [==============================] - 0s 2ms/step - loss: 0.7827 - accuracy: 0.7963\n",
      "Epoch 23/50\n",
      "120/120 [==============================] - 0s 2ms/step - loss: 0.7124 - accuracy: 0.8212\n",
      "Epoch 24/50\n",
      "120/120 [==============================] - 0s 2ms/step - loss: 0.6751 - accuracy: 0.8241\n",
      "Epoch 25/50\n",
      "120/120 [==============================] - 0s 2ms/step - loss: 0.6157 - accuracy: 0.8426\n",
      "Epoch 26/50\n",
      "120/120 [==============================] - 0s 2ms/step - loss: 0.5593 - accuracy: 0.8591\n",
      "Epoch 27/50\n",
      "120/120 [==============================] - 0s 2ms/step - loss: 0.5124 - accuracy: 0.8706\n",
      "Epoch 28/50\n",
      "120/120 [==============================] - 0s 2ms/step - loss: 0.4745 - accuracy: 0.8800\n",
      "Epoch 29/50\n",
      "120/120 [==============================] - 0s 2ms/step - loss: 0.4638 - accuracy: 0.8855\n",
      "Epoch 30/50\n",
      "120/120 [==============================] - 0s 2ms/step - loss: 0.4419 - accuracy: 0.8912\n",
      "Epoch 31/50\n",
      "120/120 [==============================] - 0s 2ms/step - loss: 0.4148 - accuracy: 0.8920\n",
      "Epoch 32/50\n",
      "120/120 [==============================] - 0s 2ms/step - loss: 0.4045 - accuracy: 0.8957\n",
      "Epoch 33/50\n",
      "120/120 [==============================] - 0s 2ms/step - loss: 0.4013 - accuracy: 0.8993\n",
      "Epoch 34/50\n",
      "120/120 [==============================] - 0s 2ms/step - loss: 0.4348 - accuracy: 0.8892\n",
      "Epoch 35/50\n",
      "120/120 [==============================] - 0s 2ms/step - loss: 0.4375 - accuracy: 0.8810\n",
      "Epoch 36/50\n",
      "120/120 [==============================] - 0s 2ms/step - loss: 0.4517 - accuracy: 0.8784\n",
      "Epoch 37/50\n",
      "120/120 [==============================] - 0s 2ms/step - loss: 0.4808 - accuracy: 0.8638\n",
      "Epoch 38/50\n",
      "120/120 [==============================] - 0s 2ms/step - loss: 0.4888 - accuracy: 0.8604\n",
      "Epoch 39/50\n",
      "120/120 [==============================] - 0s 2ms/step - loss: 0.5657 - accuracy: 0.8465\n",
      "Epoch 40/50\n",
      "120/120 [==============================] - 0s 2ms/step - loss: 0.5198 - accuracy: 0.8468\n",
      "Epoch 41/50\n",
      "120/120 [==============================] - 0s 2ms/step - loss: 0.4615 - accuracy: 0.8596\n",
      "Epoch 42/50\n",
      "120/120 [==============================] - 0s 2ms/step - loss: 0.4162 - accuracy: 0.8821\n",
      "Epoch 43/50\n",
      "120/120 [==============================] - 0s 2ms/step - loss: 0.3705 - accuracy: 0.8912\n",
      "Epoch 44/50\n",
      "120/120 [==============================] - 0s 3ms/step - loss: 0.3205 - accuracy: 0.9035\n",
      "Epoch 45/50\n",
      "120/120 [==============================] - 0s 2ms/step - loss: 0.2959 - accuracy: 0.9135\n",
      "Epoch 46/50\n",
      "120/120 [==============================] - 0s 2ms/step - loss: 0.2863 - accuracy: 0.9150\n",
      "Epoch 47/50\n",
      "120/120 [==============================] - 0s 3ms/step - loss: 0.2842 - accuracy: 0.9148\n",
      "Epoch 48/50\n",
      "120/120 [==============================] - 0s 2ms/step - loss: 0.2740 - accuracy: 0.9156\n",
      "Epoch 49/50\n",
      "120/120 [==============================] - 0s 2ms/step - loss: 0.2699 - accuracy: 0.9190\n",
      "Epoch 50/50\n",
      "120/120 [==============================] - 0s 3ms/step - loss: 0.2712 - accuracy: 0.9161\n",
      "4/4 [==============================] - 0s 2ms/step - loss: 0.0964 - accuracy: 0.9700\n",
      "0.09635287523269653\n",
      "0.9700000286102295\n"
     ]
    }
   ],
   "source": [
    "model.fit(x, y, epochs=50)\n",
    "\n",
    "val_loss, val_acc = model.evaluate(test_x, test_y)\n",
    "print(val_loss)\n",
    "print(val_acc)"
   ]
  },
  {
   "cell_type": "code",
   "execution_count": 9,
   "metadata": {},
   "outputs": [
    {
     "name": "stderr",
     "output_type": "stream",
     "text": [
      "e:\\Projects\\Python\\ChatBot\\venv\\lib\\site-packages\\keras\\src\\engine\\training.py:3000: UserWarning: You are saving your model as an HDF5 file via `model.save()`. This file format is considered legacy. We recommend using instead the native Keras format, e.g. `model.save('my_model.keras')`.\n",
      "  saving_api.save_model(\n"
     ]
    },
    {
     "name": "stdout",
     "output_type": "stream",
     "text": [
      "4/4 [==============================] - 0s 2ms/step - loss: 0.0964 - accuracy: 0.9700\n",
      "0.09635287523269653\n",
      "0.9700000286102295\n"
     ]
    }
   ],
   "source": [
    "# save model \n",
    "model.save(\"ChatBot.hdf5\")\n",
    "\n",
    "model = keras.models.load_model(\"ChatBot.hdf5\")\n",
    "val_loss, val_acc = model.evaluate(test_x, test_y)\n",
    "print(val_loss)\n",
    "print(val_acc)"
   ]
  },
  {
   "cell_type": "code",
   "execution_count": 10,
   "metadata": {},
   "outputs": [
    {
     "name": "stdout",
     "output_type": "stream",
     "text": [
      "1/1 [==============================] - 0s 73ms/step\n",
      "Bot: i'm fine. how about yourself?\n",
      "\n",
      "1/1 [==============================] - 0s 15ms/step\n",
      "Bot: i haven't been better. how about yourself?\n",
      "\n",
      "1/1 [==============================] - 0s 15ms/step\n",
      "Bot: i'm going to pcc.\n",
      "\n",
      "1/1 [==============================] - 0s 20ms/step\n",
      "Bot:  bye\n",
      "\n",
      "1/1 [==============================] - 0s 16ms/step\n",
      "Bot:  bye\n",
      "\n",
      "1/1 [==============================] - 0s 16ms/step\n",
      "Bot:  bye\n",
      "\n"
     ]
    }
   ],
   "source": [
    "def preprocess_input(text):\n",
    "    text_lower = text.lower()\n",
    "    tokenize_text = tokenize(text_lower)\n",
    "    decode_text = bpe.decode(tokenize_text)\n",
    "    return pad_sequences([decode_text], maxlen=max_length)\n",
    "\n",
    "\n",
    "while True:\n",
    "    user_input = input(\"You: \")\n",
    "    print(f\"You: {user_input}\")\n",
    "    preprocessed_input = preprocess_input(user_input)\n",
    "    prediction = model.predict(preprocessed_input)\n",
    "    predicted_label = label_encoder.inverse_transform([np.argmax(prediction)])\n",
    "    print(f\"Bot: {predicted_label[0]}\")\n",
    "    print()"
   ]
  }
 ],
 "metadata": {
  "kernelspec": {
   "display_name": "venv",
   "language": "python",
   "name": "python3"
  },
  "language_info": {
   "codemirror_mode": {
    "name": "ipython",
    "version": 3
   },
   "file_extension": ".py",
   "mimetype": "text/x-python",
   "name": "python",
   "nbconvert_exporter": "python",
   "pygments_lexer": "ipython3",
   "version": "3.9.10"
  },
  "orig_nbformat": 4
 },
 "nbformat": 4,
 "nbformat_minor": 2
}
